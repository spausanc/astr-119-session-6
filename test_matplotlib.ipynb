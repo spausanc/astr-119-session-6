{
 "cells": [
  {
   "cell_type": "code",
   "execution_count": null,
   "metadata": {},
   "outputs": [],
   "source": [
    "%matplotlib inline\n",
    "import numpy as np\n",
    "import matplotlib.pyplot as plt"
   ]
  },
  {
   "cell_type": "code",
   "execution_count": null,
   "metadata": {},
   "outputs": [],
   "source": [
    "x = np.arange(0 , 5, 0.1)   # create x = [0., 5] in 0.1 increments\n",
    "y = np.sin(x)               # y = sin(x)\n",
    "plt.plot(x,y)               # make a plot\n",
    "plt.xlabel('x')             # label x axis\n",
    "plt.ylabel('sin(x)')        # label y axis\n",
    "plt.show()                  # show the plot on the screen"
   ]
  },
  {
   "cell_type": "code",
   "execution_count": null,
   "metadata": {},
   "outputs": [],
   "source": [
    "x = np.arange(0 , 5, 0.1)   # create x = [0., 5] in 0.1 increments\n",
    "y = np.sin(x)               # y = sin(x)\n",
    "plt.plot(x,y, '')               # make a plot\n",
    "plt.xlabel('x')             # label x axis\n",
    "plt.ylabel('sin(x)')        # label y axis\n",
    "plt.savefig('ainx.png', bbox_inches = \"tight\", dpi = 600)  # save the plot on the notebook"
   ]
  },
  {
   "cell_type": "code",
   "execution_count": null,
   "metadata": {},
   "outputs": [],
   "source": []
  }
 ],
 "metadata": {
  "kernelspec": {
   "display_name": "Python 3",
   "language": "python",
   "name": "python3"
  },
  "language_info": {
   "codemirror_mode": {
    "name": "ipython",
    "version": 3
   },
   "file_extension": ".py",
   "mimetype": "text/x-python",
   "name": "python",
   "nbconvert_exporter": "python",
   "pygments_lexer": "ipython3",
   "version": "3.6.5"
  }
 },
 "nbformat": 4,
 "nbformat_minor": 2
}

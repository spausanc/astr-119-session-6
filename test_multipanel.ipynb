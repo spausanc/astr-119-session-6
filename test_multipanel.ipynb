{
 "cells": [
  {
   "cell_type": "markdown",
   "metadata": {},
   "source": [
    "First, we import numpy and matplot lib as usual"
   ]
  },
  {
   "cell_type": "code",
   "execution_count": null,
   "metadata": {},
   "outputs": [],
   "source": [
    "%matplotlib inline\n",
    "import numpy as np\n",
    "import matplotlib.pyplot as plt"
   ]
  },
  {
   "cell_type": "markdown",
   "metadata": {},
   "source": [
    "Then, we define an array of angles, and their sines and cosines using numpy. This time we will use linspace"
   ]
  },
  {
   "cell_type": "code",
   "execution_count": null,
   "metadata": {},
   "outputs": [],
   "source": [
    "x = np.linspace(0, 2*np.pi, 100)\n",
    "print(x[-1], 2*np.pi) # [-1] Backwards the array\n",
    "\n",
    "y = np.sin(x)\n",
    "z = np.cos(x)\n",
    "w = np.sin(4*x)\n",
    "v = np.cos(4*x)"
   ]
  },
  {
   "cell_type": "markdown",
   "metadata": {},
   "source": [
    "Now, let's make a two panel plot side-by-side"
   ]
  },
  {
   "cell_type": "code",
   "execution_count": null,
   "metadata": {},
   "outputs": [],
   "source": [
    "# Call subplots to generate a miltipanel figure. This ,eams 1 row, 2 colimns of figures\n",
    "f, axarr = plt.subplots(1,2) #axar: array of plots, from left to right\n",
    "\n",
    "# First panel\n",
    "axarr[0].plot(x,y)\n",
    "axarr[0].set_xlabel('x') \n",
    "axarr[0].set_ylabel ('sin(x)')\n",
    "axarr[0].set_title(r'$\\sin(x)$')    #What is this again?\n",
    "\n",
    "# Second panel\n",
    "axarr[0].plot(x,z)\n",
    "axarr[0].set_xlabel('x') \n",
    "axarr[0].set_ylabel ('cos(x)')\n",
    "axarr[0].set_title(r'$\\cos(x)$')"
   ]
  },
  {
   "cell_type": "code",
   "execution_count": null,
   "metadata": {},
   "outputs": [],
   "source": [
    "# Call subplots to generate a miltipanel figure. This ,eams 1 row, 2 colimns of figures\n",
    "f, axarr = plt.subplots(1,2) #axar: array of plots, from left to right\n",
    "\n",
    "# First panel\n",
    "axarr[0].plot(x,y)\n",
    "axarr[0].set_xlabel('x') #\n",
    "axarr[0].set_ylabel ('sin(x)')\n",
    "axarr[0].set_title(r'$\\sin(x)$')    #What is this again?\n",
    "\n",
    "# Second panel\n",
    "axarr[1].plot(x,z)\n",
    "axarr[1].set_xlabel('x') #\n",
    "axarr[1].set_ylabel ('cos(x)')\n",
    "axarr[1].set_title(r'$\\cos(x)$')"
   ]
  },
  {
   "cell_type": "markdown",
   "metadata": {},
   "source": [
    "## Let's make this look better (no overruning...)"
   ]
  },
  {
   "cell_type": "code",
   "execution_count": null,
   "metadata": {},
   "outputs": [],
   "source": [
    "# Call subplots to generate a multipanel figure. This means 1 row, 2 colimns of figures\n",
    "f, axarr = plt.subplots(1,2) #axar: array of plots, from left to right\n",
    "\n",
    "# First panel\n",
    "axarr[0].plot(x,y)\n",
    "axarr[0].set_xlabel('x') #\n",
    "axarr[0].set_ylabel ('sin(x)')\n",
    "axarr[0].set_title(r'$\\sin(x)$')    #What is this again?\n",
    "\n",
    "# Second panel\n",
    "axarr[1].plot(x,z)\n",
    "axarr[1].set_xlabel('x') #\n",
    "axarr[1].set_ylabel ('cos(x)')\n",
    "axarr[1].set_title(r'$\\cos(x)$')\n",
    "\n",
    "# Add more space between the figures\n",
    "f.subplots_adjust(wspace = 0.4)"
   ]
  },
  {
   "cell_type": "markdown",
   "metadata": {},
   "source": [
    "## What about the sizes of each plot? Let's fix their aspect ratio"
   ]
  },
  {
   "cell_type": "code",
   "execution_count": null,
   "metadata": {},
   "outputs": [],
   "source": [
    "# Call subplots to generate a multipanel figure. This means 1 row, 2 colimns of figures\n",
    "f, axarr = plt.subplots(1,2) #axar: array of plots, from left to right\n",
    "\n",
    "# Treat axarr as an array, from left to right. \n",
    "# Do we have to use axarr always when we do multipanel?\n",
    "\n",
    "# First panel\n",
    "axarr[0].plot(x,y)\n",
    "axarr[0].set_xlabel('x') #\n",
    "axarr[0].set_ylabel ('sin(x)')\n",
    "axarr[0].set_title(r'$\\sin(x)$')    #What is this again?\n",
    "\n",
    "# Second panel\n",
    "axarr[1].plot(x,z)\n",
    "axarr[1].set_xlabel('x') #\n",
    "axarr[1].set_ylabel ('cos(x)')\n",
    "axarr[1].set_title(r'$\\cos(x)$')\n",
    "\n",
    "# Add more space between the figures\n",
    "f.subplots_adjust(wspace = 0.4)\n",
    "\n",
    "# Fix the axis ratio. Either:\n",
    "axarr[0].set_aspect('equal') # Make the ratio of the tick units equal. A bit counter intuitive\n",
    "axarr[1].set_aspect(np.pi)   # Make a square by setting the aspect to be the ratio of the tick unit range"
   ]
  },
  {
   "cell_type": "code",
   "execution_count": null,
   "metadata": {},
   "outputs": [],
   "source": [
    "# Adjust the size of the figure\n",
    "fig = plt.figure(figsize = (6,6))\n",
    "\n",
    "\n",
    "plt.plot(x, y, label=r'$y = \\sin(x)$')\n",
    "plt.plot(x, z, label=r'$y = \\cos(x)$')\n",
    "plt.plot(x, w, label=r'$y = \\sin(4x)$')\n",
    "plt.plot(x, v, label=r'$y = \\cos(4x)$')\n",
    "\n",
    "plt.xlabel(r'$x$')\n",
    "plt.ylabel(r'$y(x)$')\n",
    "plt.xlim([0, 2*np.pi])\n",
    "plt.legend(loc=1, framealpha=0.95) #framealpha: adjust the RGB transparency,\n",
    "                                   #so you can see through the legend :O!\n",
    "# Fix the axis ratio\n",
    "plt.gca().set_aspect(np.pi/1.2)"
   ]
  },
  {
   "cell_type": "markdown",
   "metadata": {},
   "source": [
    "## Legends"
   ]
  },
  {
   "cell_type": "code",
   "execution_count": null,
   "metadata": {},
   "outputs": [],
   "source": [
    "# Adjust the size of the figure\n",
    "fig = plt.figure(figsize = (6,6))\n",
    "\n",
    "\n",
    "plt.plot(x, y, label=r'$y = \\sin(x)$')\n",
    "plt.plot(x, z, label=r'$y = \\cos(x)$')\n",
    "plt.plot(x, w, label=r'$y = \\sin(4x)$')\n",
    "plt.plot(x, v, label=r'$y = \\cos(4x)$')\n",
    "\n",
    "plt.xlabel(r'$x$')\n",
    "plt.ylabel(r'$y(x)$')\n",
    "plt.xlim([0, 2*np.pi])\n",
    "plt.ylim([-1.2,1.2])\n",
    "plt.legend(loc=1, framealpha=0.95) #framealpha: adjust the RGB transparency,\n",
    "                                   #so you can see through the legend :O!\n",
    "                                   #loc positions the legend. It can also be a string:\n",
    "                                   #\"upper right\", \"upper left\", ...\n",
    "# Fix the axis ratio\n",
    "plt.gca().set_aspect(np.pi/1.2)"
   ]
  },
  {
   "cell_type": "code",
   "execution_count": null,
   "metadata": {},
   "outputs": [],
   "source": []
  }
 ],
 "metadata": {
  "kernelspec": {
   "display_name": "Python 3",
   "language": "python",
   "name": "python3"
  },
  "language_info": {
   "codemirror_mode": {
    "name": "ipython",
    "version": 3
   },
   "file_extension": ".py",
   "mimetype": "text/x-python",
   "name": "python",
   "nbconvert_exporter": "python",
   "pygments_lexer": "ipython3",
   "version": "3.6.5"
  }
 },
 "nbformat": 4,
 "nbformat_minor": 2
}
